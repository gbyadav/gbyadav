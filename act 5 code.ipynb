{
 "cells": [
  {
   "cell_type": "code",
   "execution_count": 7,
   "id": "fb2fea77",
   "metadata": {},
   "outputs": [],
   "source": [
    "from time import time\n",
    "import requests\n",
    "import pandas as pd\n",
    "from pprint import pprint as pp\n",
    "from asyncio.windows_events import NULL\n",
    "import argparse\n",
    "import hashlib"
   ]
  },
  {
   "cell_type": "code",
   "execution_count": 4,
   "id": "b0c57285",
   "metadata": {},
   "outputs": [],
   "source": [
    "def ch_gen(nameStartsWith,  hash_ , API_key):   #giving default value as null helps us in giving a clearer error message to the user\n",
    "\n",
    "\n",
    "\n",
    "    address=\"http://gateway.marvel.com/v1/public/characters\"   #url\n",
    "\n",
    "\n",
    "\n",
    "    params={\"apikey\":API_key,\"hash\":hash_,\"ts\":int(time()),\"limit\":100,\"nameStartsWith\":nameStartsWith} #define all the parameters and keys\n",
    "    \n",
    "    response=requests.get(address,params) #we are using url alongwith api key(public) as well as hash key and also by inducing the parameters nameStartswith and limit\n",
    "    print(response.json)    \n",
    "\n",
    "\n",
    "\n",
    "    df = pd.json_normalize(response.json(), record_path=['data', 'results'])\n",
    "    \n",
    "    return df"
   ]
  },
  {
   "cell_type": "code",
   "execution_count": 5,
   "id": "22b8b42b",
   "metadata": {},
   "outputs": [
    {
     "name": "stdout",
     "output_type": "stream",
     "text": [
      "enter your public key:93c09fe4da776c46ae95a1c0c804d923\n",
      "enter your private key:aeb04acc08266fc337f757427d91a071074d79ee\n"
     ]
    }
   ],
   "source": [
    "api_url = \"http://gateway.marvel.com/v1/public/\"\n",
    "public_key = input(\"enter your public key:\")\n",
    "private_key = input(\"enter your private key:\")\n",
    "resource = \"characters\"\n",
    "\n",
    "limit = 100"
   ]
  },
  {
   "cell_type": "code",
   "execution_count": 8,
   "id": "58faaf54",
   "metadata": {},
   "outputs": [
    {
     "name": "stdout",
     "output_type": "stream",
     "text": [
      "<bound method Response.json of <Response [200]>>\n"
     ]
    }
   ],
   "source": [
    "ts = str(int(time()))\n",
    "hash_param = ts+private_key+public_key\n",
    "hash_result = hashlib.md5(hash_param.encode())\n",
    "\n",
    "df = ch_gen(nameStartsWith = \"Spider\", hash_ = hash_result.hexdigest(), API_key = public_key)"
   ]
  },
  {
   "cell_type": "code",
   "execution_count": 9,
   "id": "857f41c3",
   "metadata": {},
   "outputs": [
    {
     "name": "stdout",
     "output_type": "stream",
     "text": [
      "-----ACTIVITY: 4-----\n",
      "Result: Characters Starting with 'A' Empty DataFrame\n",
      "Columns: [id, name, description, modified, resourceURI, urls, thumbnail.path, thumbnail.extension, comics.available, comics.collectionURI, comics.items, comics.returned, series.available, series.collectionURI, series.items, series.returned, stories.available, stories.collectionURI, stories.items, stories.returned, events.available, events.collectionURI, events.items, events.returned]\n",
      "Index: []\n",
      "\n",
      "[0 rows x 24 columns]\n"
     ]
    }
   ],
   "source": [
    "#activity 4 \n",
    "def ch_filter(df1,col,filter_condition):\n",
    "    return df1.query(col+filter_condition)   #optimal method for the above code.\n",
    "\n",
    "# def ch_filter1(df1,col,filter_condition):\n",
    "#     total_condition = col+filter_condition;\n",
    "#     res = (df1.query(total_condition));  #code to define and convert to df for a filter conditionbased on selected column and the condition on that column\n",
    "#     return res \n",
    "\n",
    "result2= ch_filter(df1=df, col='name',filter_condition='.str.startswith(\"A\")')\n",
    "print(\"-----ACTIVITY: 4-----\")\n",
    "print(\"Result: Characters Starting with 'A'\",result2)"
   ]
  },
  {
   "cell_type": "code",
   "execution_count": 10,
   "id": "55cf61b6",
   "metadata": {},
   "outputs": [
    {
     "name": "stderr",
     "output_type": "stream",
     "text": [
      "usage: ipykernel_launcher.py [-h]\n",
      "ipykernel_launcher.py: error: unrecognized arguments: -f C:\\Users\\gaurav.yadav3\\AppData\\Roaming\\jupyter\\runtime\\kernel-c4090fa1-a633-4c8f-a0ca-ae237e89818b.json\n"
     ]
    },
    {
     "ename": "SystemExit",
     "evalue": "2",
     "output_type": "error",
     "traceback": [
      "An exception has occurred, use %tb to see the full traceback.\n",
      "\u001b[1;31mSystemExit\u001b[0m\u001b[1;31m:\u001b[0m 2\n"
     ]
    },
    {
     "name": "stderr",
     "output_type": "stream",
     "text": [
      "C:\\ProgramData\\Anaconda3\\lib\\site-packages\\IPython\\core\\interactiveshell.py:3377: UserWarning: To exit: use 'exit', 'quit', or Ctrl-D.\n",
      "  warn(\"To exit: use 'exit', 'quit', or Ctrl-D.\", stacklevel=1)\n"
     ]
    }
   ],
   "source": [
    "parser = argparse.ArgumentParser()\n",
    "args = parser.parse_args()\n",
    "args.public = \"93c09fe4da776c46ae95a1c0c804d923\"\n",
    "args.private = \"aeb04acc08266fc337f757427d91a071074d79ee\""
   ]
  },
  {
   "cell_type": "code",
   "execution_count": 12,
   "id": "5ca9337f",
   "metadata": {},
   "outputs": [
    {
     "data": {
      "text/plain": [
       "_StoreAction(option_strings=[], dest='aeb04acc08266fc337f757427d91a071074d79ee', nargs=None, const=None, default=None, type=<class 'str'>, choices=None, help=None, metavar=None)"
      ]
     },
     "execution_count": 12,
     "metadata": {},
     "output_type": "execute_result"
    }
   ],
   "source": [
    "#activity 5\n",
    "\n",
    "\n",
    "\n",
    "parser.add_argument(\"93c09fe4da776c46ae95a1c0c804d923\", type=str )\n",
    "\n",
    "parser.add_argument(\"aeb04acc08266fc337f757427d91a071074d79ee\", type=str)\n"
   ]
  },
  {
   "cell_type": "code",
   "execution_count": null,
   "id": "730fcc60",
   "metadata": {},
   "outputs": [],
   "source": []
  }
 ],
 "metadata": {
  "kernelspec": {
   "display_name": "Python 3 (ipykernel)",
   "language": "python",
   "name": "python3"
  },
  "language_info": {
   "codemirror_mode": {
    "name": "ipython",
    "version": 3
   },
   "file_extension": ".py",
   "mimetype": "text/x-python",
   "name": "python",
   "nbconvert_exporter": "python",
   "pygments_lexer": "ipython3",
   "version": "3.9.12"
  }
 },
 "nbformat": 4,
 "nbformat_minor": 5
}
