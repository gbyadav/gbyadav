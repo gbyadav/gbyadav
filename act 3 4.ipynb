{
 "cells": [
  {
   "cell_type": "code",
   "execution_count": null,
   "id": "621cffaf",
   "metadata": {},
   "outputs": [],
   "source": [
    "from time import time\n",
    "import requests\n",
    "import pandas as pd\n",
    "from pprint import pprint as pp\n",
    "from asyncio.windows_events import NULL"
   ]
  },
  {
   "cell_type": "code",
   "execution_count": null,
   "id": "00d9b45c",
   "metadata": {},
   "outputs": [],
   "source": [
    "def ch_gen(nameStartsWith,  hash_ , API_key):   #giving default value as null helps us in giving a clearer error message to the user\n",
    "\n",
    "\n",
    "\n",
    "    address=\"http://gateway.marvel.com/v1/public/characters\"   #url\n",
    "\n",
    "\n",
    "\n",
    "    params={\"apikey\":API_key,\"hash\":hash_,\"ts\":int(time()),\"limit\":100,\"nameStartsWith\":nameStartsWith} #define all the parameters and keys\n",
    "    \n",
    "    response=requests.get(address,params) #we are using url alongwith api key(public) as well as hash key and also by inducing the parameters nameStartswith and limit\n",
    "    print(response.json)    \n",
    "\n",
    "\n",
    "\n",
    "    df = pd.json_normalize(response.json(), record_path=['data', 'results'])\n",
    "    \n",
    "    return df"
   ]
  },
  {
   "cell_type": "code",
   "execution_count": null,
   "id": "3045107e",
   "metadata": {},
   "outputs": [],
   "source": [
    "api_url = \"http://gateway.marvel.com/v1/public/\"\n",
    "public_key = input(\"enter your public key:\")\n",
    "private_key = input(\"enter your private key:\")\n",
    "resource = \"characters\"\n",
    "\n",
    "limit = 100"
   ]
  },
  {
   "cell_type": "code",
   "execution_count": null,
   "id": "e0c68933",
   "metadata": {},
   "outputs": [],
   "source": [
    "ts = str(int(time()))\n",
    "hash_param = ts+private_key+public_key\n",
    "hash_result = hashlib.md5(hash_param.encode())\n",
    "\n",
    "df = ch_gen(nameStartsWith = \"Spider\", hash_ = hash_result.hexdigest(), API_key = public_key)"
   ]
  },
  {
   "cell_type": "code",
   "execution_count": null,
   "id": "3b78a44d",
   "metadata": {},
   "outputs": [],
   "source": [
    "#activity 4 \n",
    "def ch_filter(df1,col,filter_condition):\n",
    "    return df1.query(col+filter_condition)   #optimal method for the above code.\n",
    "\n",
    "# def ch_filter1(df1,col,filter_condition):\n",
    "#     total_condition = col+filter_condition;\n",
    "#     res = (df1.query(total_condition));  #code to define and convert to df for a filter conditionbased on selected column and the condition on that column\n",
    "#     return res \n",
    "\n",
    "result2= ch_filter(df1=df, col='name',filter_condition='.str.startswith(\"A\")')\n",
    "print(\"-----ACTIVITY: 4-----\")\n",
    "print(\"Result: Characters Starting with 'A'\",result2)"
   ]
  },
  {
   "cell_type": "code",
   "execution_count": null,
   "id": "b60bcc38",
   "metadata": {},
   "outputs": [],
   "source": [
    "#activity 5\n",
    "parser = argparse.ArgumentParser()\n",
    "\n",
    "parser.add_argument('--public', type=str, required=True)\n",
    "\n",
    "parser.add_argument('--private', type=str, required=True)\n",
    "\n",
    "args = parser.parse_args()"
   ]
  },
  {
   "cell_type": "code",
   "execution_count": null,
   "id": "e8925468",
   "metadata": {},
   "outputs": [],
   "source": []
  }
 ],
 "metadata": {
  "kernelspec": {
   "display_name": "Python 3 (ipykernel)",
   "language": "python",
   "name": "python3"
  },
  "language_info": {
   "codemirror_mode": {
    "name": "ipython",
    "version": 3
   },
   "file_extension": ".py",
   "mimetype": "text/x-python",
   "name": "python",
   "nbconvert_exporter": "python",
   "pygments_lexer": "ipython3",
   "version": "3.9.12"
  }
 },
 "nbformat": 4,
 "nbformat_minor": 5
}
