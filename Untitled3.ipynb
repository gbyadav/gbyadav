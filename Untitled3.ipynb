{
 "cells": [
  {
   "cell_type": "code",
   "execution_count": null,
   "id": "703305db",
   "metadata": {},
   "outputs": [],
   "source": [
    "from time import time\n",
    "import requests\n",
    "import pandas as pd\n",
    "from pprint import pprint as pp\n",
    "from asyncio.windows_events import NULL"
   ]
  },
  {
   "cell_type": "code",
   "execution_count": null,
   "id": "126cbf77",
   "metadata": {},
   "outputs": [],
   "source": [
    "def ch_gen(nameStartsWith,  hash_ , API_key):   #giving default value as null helps us in giving a clearer error message to the user\n",
    "\n",
    "\n",
    "\n",
    "    address=\"http://gateway.marvel.com/v1/public/characters\"   #url\n",
    "\n",
    "\n",
    "\n",
    "    params={\"apikey\":API_key,\"hash\":hash_,\"ts\":int(time()),\"limit\":100,\"nameStartsWith\":nameStartsWith} #define all the parameters and keys\n",
    "    \n",
    "    response=requests.get(address,params) #we are using url alongwith api key(public) as well as hash key and also by inducing the parameters nameStartswith and limit\n",
    "    print(response.json)    \n",
    "\n",
    "\n",
    "\n",
    "    df = pd.json_normalize(response.json(), record_path=['data', 'results'])\n",
    "    \n",
    "    return df"
   ]
  },
  {
   "cell_type": "code",
   "execution_count": null,
   "id": "4fcdfb4a",
   "metadata": {},
   "outputs": [],
   "source": [
    "api_url = \"http://gateway.marvel.com/v1/public/\"\n",
    "public_key = '93c09fe4da776c46ae95a1c0c804d923'\n",
    "private_key = 'aeb04acc08266fc337f757427d91a071074d79ee'\n",
    "resource = \"characters\"\n",
    "\n",
    "limit = 100"
   ]
  },
  {
   "cell_type": "code",
   "execution_count": null,
   "id": "c5292ff5",
   "metadata": {},
   "outputs": [],
   "source": [
    "ts = str(int(time()))\n",
    "hash_param = ts+private_key+public_key\n",
    "hash_result = hashlib.md5(hash_param.encode())\n",
    "\n",
    "df = ch_gen(nameStartsWith = \"Spider\", hash_ = hash_result.hexdigest(), API_key = public_key)"
   ]
  },
  {
   "cell_type": "code",
   "execution_count": null,
   "id": "440fdcbc",
   "metadata": {},
   "outputs": [],
   "source": [
    "#activity 4 \n",
    "def ch_filter(df1,col,filter_condition):\n",
    "    return df1.query(col+filter_condition)   #optimal method for the above code.\n",
    "\n",
    "# def ch_filter1(df1,col,filter_condition):\n",
    "#     total_condition = col+filter_condition;\n",
    "#     res = (df1.query(total_condition));  #code to define and convert to df for a filter conditionbased on selected column and the condition on that column\n",
    "#     return res \n",
    "\n",
    "result2= ch_filter(df1=result, col='name',filter_condition='.str.startswith(\"A\")')\n",
    "print(\"-----ACTIVITY: 4-----\")\n",
    "print(\"Result: Characters Starting with 'A'\",result2)"
   ]
  },
  {
   "cell_type": "code",
   "execution_count": null,
   "id": "9318771e",
   "metadata": {},
   "outputs": [],
   "source": []
  },
  {
   "cell_type": "code",
   "execution_count": null,
   "id": "15a398c2",
   "metadata": {},
   "outputs": [],
   "source": []
  }
 ],
 "metadata": {
  "kernelspec": {
   "display_name": "Python 3 (ipykernel)",
   "language": "python",
   "name": "python3"
  },
  "language_info": {
   "codemirror_mode": {
    "name": "ipython",
    "version": 3
   },
   "file_extension": ".py",
   "mimetype": "text/x-python",
   "name": "python",
   "nbconvert_exporter": "python",
   "pygments_lexer": "ipython3",
   "version": "3.9.12"
  }
 },
 "nbformat": 4,
 "nbformat_minor": 5
}
