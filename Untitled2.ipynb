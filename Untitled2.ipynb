{
 "cells": [
  {
   "cell_type": "code",
   "execution_count": 3,
   "id": "b7d44c71",
   "metadata": {},
   "outputs": [],
   "source": [
    "import requests\n",
    "import json"
   ]
  },
  {
   "cell_type": "code",
   "execution_count": null,
   "id": "f7414121",
   "metadata": {},
   "outputs": [],
   "source": [
    "import hashlib\n",
    "from time import time "
   ]
  },
  {
   "cell_type": "code",
   "execution_count": null,
   "id": "65703269",
   "metadata": {},
   "outputs": [],
   "source": [
    "public = \"93c09fe4da776c46ae95a1c0c804d923\"\n",
    "address= \"http://gateway.marvel.com/v1/public/characters\""
   ]
  },
  {
   "cell_type": "code",
   "execution_count": null,
   "id": "9cfb1515",
   "metadata": {},
   "outputs": [],
   "source": [
    "ts= str(int(time()))\n",
    "public_key = input ()\n",
    "private_key =input()\n",
    "hash = ts + private_key + public_key\n",
    "hash_result = hashlib.md5(hash.encode())\n"
   ]
  },
  {
   "cell_type": "code",
   "execution_count": null,
   "id": "a54dffa3",
   "metadata": {},
   "outputs": [],
   "source": [
    "api_url = \"http://gateway.marvel.com/v1/public/\"\n",
    "public_key = input()\n",
    "private_key = input()\n",
    "resource = \"characters\"\n",
    "limit = 100\n",
    "ts = str(int(time()))\n",
    "\n",
    "hash_param = ts+private_key+public_key\n",
    "\n",
    "hash_result = hashlib.md5(hash_param.encode())\n",
    "\n",
    "address = api_url + resource\n",
    "\n",
    "param = {\"apikey\": '93c09fe4da776c46ae95a1c0c804d923',\n",
    "\n",
    "            \"ts\": int(time()),\n",
    "\n",
    "            \"hash\": hash_result.hexdigest(),\n",
    "\n",
    "            \"limit\": limit}"
   ]
  },
  {
   "cell_type": "code",
   "execution_count": null,
   "id": "cd0e4b6f",
   "metadata": {},
   "outputs": [],
   "source": [
    "df = pd.DataFrame()\n",
    "import string\n",
    "\n",
    "start_char = list(string.ascii_lowercase + string.digits)\n",
    "\n",
    "start_char.remove('0')\n",
    "\n",
    "for letter in start_char :\n",
    "\n",
    "    param[\"nameStartsWith\"] = letter\n",
    "\n",
    "    response = requests.get(address, param)\n",
    "\n",
    "    temp_df = pd.json_normalize(response.json(), record_path=['data', 'results'])\n",
    "\n",
    "    df = pd.concat([df, temp_df])\n",
    "\n",
    "    del param[\"nameStartsWith\"]"
   ]
  },
  {
   "cell_type": "code",
   "execution_count": null,
   "id": "02416050",
   "metadata": {},
   "outputs": [],
   "source": []
  },
  {
   "cell_type": "code",
   "execution_count": null,
   "id": "f780cd64",
   "metadata": {},
   "outputs": [],
   "source": []
  },
  {
   "cell_type": "code",
   "execution_count": null,
   "id": "1145373e",
   "metadata": {},
   "outputs": [],
   "source": []
  }
 ],
 "metadata": {
  "kernelspec": {
   "display_name": "Python 3 (ipykernel)",
   "language": "python",
   "name": "python3"
  },
  "language_info": {
   "codemirror_mode": {
    "name": "ipython",
    "version": 3
   },
   "file_extension": ".py",
   "mimetype": "text/x-python",
   "name": "python",
   "nbconvert_exporter": "python",
   "pygments_lexer": "ipython3",
   "version": "3.9.12"
  }
 },
 "nbformat": 4,
 "nbformat_minor": 5
}
